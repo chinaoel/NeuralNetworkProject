{
  "nbformat": 4,
  "nbformat_minor": 0,
  "metadata": {
    "accelerator": "GPU",
    "colab": {
      "name": "Copy of 20200513 Keras進階技巧：Sequential 的另一種用法",
      "provenance": [],
      "collapsed_sections": [
        "OSew6gi3goiy"
      ],
      "machine_shape": "hm"
    },
    "kernelspec": {
      "display_name": "Python 3",
      "language": "python",
      "name": "python3"
    },
    "language_info": {
      "codemirror_mode": {
        "name": "ipython",
        "version": 3
      },
      "file_extension": ".py",
      "mimetype": "text/x-python",
      "name": "python",
      "nbconvert_exporter": "python",
      "pygments_lexer": "ipython3",
      "version": "3.7.3"
    }
  },
  "cells": [
    {
      "cell_type": "markdown",
      "metadata": {
        "id": "XUZA3OvtRzK-"
      },
      "source": [
        "\n",
        "<p align=\"center\">\n",
        "  <img src=\"https://storage.googleapis.com/kaggle-competitions/kaggle/3649/media/cifar-10.png\"\n",
        "  />\n",
        "  <center>Cifar 10 資料庫</center>\n",
        "  <center>圖片來源: https://www.kaggle.com/</center>\n",
        "</p>"
      ]
    },
    {
      "cell_type": "markdown",
      "metadata": {
        "id": "zJMS8p3wfPXO"
      },
      "source": [
        "## 1: 切換 TensorFlow 版本至 2.x"
      ]
    },
    {
      "cell_type": "code",
      "metadata": {
        "id": "PXNUanZvcwwZ"
      },
      "source": [
        "%tensorflow_version 2.x"
      ],
      "execution_count": null,
      "outputs": []
    },
    {
      "cell_type": "markdown",
      "metadata": {
        "id": "lRHFdNYAfWKJ"
      },
      "source": [
        "## 2: 載入套件及資料集"
      ]
    },
    {
      "cell_type": "code",
      "metadata": {
        "id": "tS5xFeQwe9Xu"
      },
      "source": [
        "# Import some useful packages\n",
        "import matplotlib.pyplot as plt\n",
        "import numpy as np\n",
        "\n",
        "# Layers for FNN\n",
        "from tensorflow.keras.models import Sequential\n",
        "from tensorflow.keras.layers import Dense\n",
        "from tensorflow.keras.layers import Flatten\n",
        "\n",
        "# Layers for CNN\n",
        "from tensorflow.keras.layers import Conv2D, MaxPool2D, GlobalAveragePooling2D\n",
        "\n",
        "from tensorflow.keras.optimizers import SGD, Adam\n",
        "\n",
        "# For data preprocessing\n",
        "from tensorflow.keras import datasets\n",
        "from tensorflow.keras.utils import to_categorical"
      ],
      "execution_count": null,
      "outputs": []
    },
    {
      "cell_type": "markdown",
      "metadata": {
        "id": "e8zYubaPfy-S"
      },
      "source": [
        "## 3: 資料前處理 (Data Preprocessing)"
      ]
    },
    {
      "cell_type": "markdown",
      "metadata": {
        "id": "YleM4DH4NoOA"
      },
      "source": [
        "CIFAR 10 是包含 10 種類的彩色小圖資料集，每張圖的尺寸為 $32\\times32$\n",
        "\n",
        "10 個類別分別是：飛機、交通工具、鳥、貓、鹿、狗、青蛙、馬、船、卡車"
      ]
    },
    {
      "cell_type": "markdown",
      "metadata": {
        "id": "AOAGjiPogF0w"
      },
      "source": [
        "讀取 CIFAR 10 資料集"
      ]
    },
    {
      "cell_type": "code",
      "metadata": {
        "id": "4c5EYPsuNThg"
      },
      "source": [
        "name_list = ['airplane', 'automobile', 'bird', 'cat', 'deer', 'dog', 'frog', 'horse', 'ship', 'truck']"
      ],
      "execution_count": null,
      "outputs": []
    },
    {
      "cell_type": "code",
      "metadata": {
        "id": "ITug7sp2TAr5",
        "outputId": "9ebb87c7-e4cd-440b-a71d-368c9cd29c4a",
        "colab": {
          "base_uri": "https://localhost:8080/",
          "height": 50
        }
      },
      "source": [
        "# Load CIFAR 10\n",
        "(X_train, y_train0), (X_test, y_test0) = datasets.cifar10.load_data()\n",
        "\n",
        "# Normalize the range of featurs\n",
        "X_train = X_train / X_train.max()\n",
        "X_test = X_test / X_test.max()\n",
        "\n",
        "# One-hot encoding\n",
        "y_train = to_categorical(y_train0, 10)\n",
        "y_test = to_categorical(y_test0, 10)"
      ],
      "execution_count": null,
      "outputs": [
        {
          "output_type": "stream",
          "text": [
            "Downloading data from https://www.cs.toronto.edu/~kriz/cifar-10-python.tar.gz\n",
            "170500096/170498071 [==============================] - 6s 0us/step\n"
          ],
          "name": "stdout"
        }
      ]
    },
    {
      "cell_type": "code",
      "metadata": {
        "id": "CnRkalOEMx8U",
        "outputId": "98b192b3-4661-4b63-a03d-b2d2590b563f",
        "colab": {
          "base_uri": "https://localhost:8080/",
          "height": 264
        }
      },
      "source": [
        "idx = np.random.randint(X_train.shape[0])\n",
        "X_sample = X_train[idx]\n",
        "y_sample = y_train0[idx].squeeze()\n",
        "\n",
        "plt.imshow(X_sample)\n",
        "plt.title(name_list[y_sample])\n",
        "plt.axis('off');"
      ],
      "execution_count": null,
      "outputs": [
        {
          "output_type": "display_data",
          "data": {
            "image/png": "[encoded data removed]",
            "text/plain": [
              "<Figure size 432x288 with 1 Axes>"
            ]
          },
          "metadata": {
            "tags": [],
            "needs_background": "light"
          }
        }
      ]
    },
    {
      "cell_type": "markdown",
      "metadata": {
        "id": "swp6zTOST8gD"
      },
      "source": [
        "## 4: 建立用於分類 CIFAR 10 的卷積神經網路\n",
        "\n",
        "在這個部分，我們將逐步帶領大家建立經典的 CNN 模型 LeNet-5 的變形。\n",
        "\n",
        "LeNet-5 分成兩個部分，分別為卷積層與全連接層，兩部份之間是透過扁平層 (Flatten) ，將卷積層最後輸出的 2 維向量壓扁成 1 維向量。"
      ]
    },
    {
      "cell_type": "code",
      "metadata": {
        "id": "jGEAVln9TRwa"
      },
      "source": [
        "model = Sequential()\n",
        "\n",
        "# First convolutional block\n",
        "model.add(Conv2D(32, (3, 3), input_shape=(32, 32, 3), padding='same', activation='relu'))\n",
        "model.add(MaxPool2D())\n",
        "\n",
        "# Second convolutional block\n",
        "model.add(Conv2D(128, (3, 3), padding='same', activation='relu'))\n",
        "model.add(MaxPool2D())\n",
        "\n",
        "# Third convolutional block\n",
        "model.add(Conv2D(512, (3, 3), padding='same', activation='relu'))\n",
        "model.add(GlobalAveragePooling2D())\n",
        "\n",
        "# Fully-connected layers as a classfier\n",
        "model.add(Dense(units=256, activation='relu'))\n",
        "\n",
        "# Ouput layer: # of neurons = # of classes with softmax activation\n",
        "model.add(Dense(units=10, activation='softmax'))"
      ],
      "execution_count": null,
      "outputs": []
    },
    {
      "cell_type": "code",
      "metadata": {
        "id": "floU0of05vJj",
        "outputId": "a4db1eeb-3e7d-4be5-dfa6-b2f2bbc9923a",
        "colab": {
          "base_uri": "https://localhost:8080/",
          "height": 420
        }
      },
      "source": [
        "model.summary()"
      ],
      "execution_count": null,
      "outputs": [
        {
          "output_type": "stream",
          "text": [
            "Model: \"sequential\"\n",
            "_________________________________________________________________\n",
            "Layer (type)                 Output Shape              Param #   \n",
            "=================================================================\n",
            "conv2d (Conv2D)              (None, 32, 32, 32)        896       \n",
            "_________________________________________________________________\n",
            "max_pooling2d (MaxPooling2D) (None, 16, 16, 32)        0         \n",
            "_________________________________________________________________\n",
            "conv2d_1 (Conv2D)            (None, 16, 16, 128)       36992     \n",
            "_________________________________________________________________\n",
            "max_pooling2d_1 (MaxPooling2 (None, 8, 8, 128)         0         \n",
            "_________________________________________________________________\n",
            "conv2d_2 (Conv2D)            (None, 8, 8, 512)         590336    \n",
            "_________________________________________________________________\n",
            "global_average_pooling2d (Gl (None, 512)               0         \n",
            "_________________________________________________________________\n",
            "dense (Dense)                (None, 256)               131328    \n",
            "_________________________________________________________________\n",
            "dense_1 (Dense)              (None, 10)                2570      \n",
            "=================================================================\n",
            "Total params: 762,122\n",
            "Trainable params: 762,122\n",
            "Non-trainable params: 0\n",
            "_________________________________________________________________\n"
          ],
          "name": "stdout"
        }
      ]
    },
    {
      "cell_type": "markdown",
      "metadata": {
        "id": "GWdFSj9OcYWl"
      },
      "source": [
        "### 編譯模型: 設定模型訓練時的設定\n",
        "\n",
        "- Optimizer: Stochastic Gradient Descent (SGD)\n",
        "- Loss: categorical cross-entropy "
      ]
    },
    {
      "cell_type": "code",
      "metadata": {
        "id": "86fvl2DHcKwj"
      },
      "source": [
        "model.compile(loss='categorical_crossentropy', \n",
        "              optimizer=Adam(),\n",
        "              metrics=['categorical_accuracy'])"
      ],
      "execution_count": null,
      "outputs": []
    },
    {
      "cell_type": "markdown",
      "metadata": {
        "id": "-Zz5yHOzdUgv"
      },
      "source": [
        "### 訓練模型: 透過訓練來學習分類資料的函數"
      ]
    },
    {
      "cell_type": "code",
      "metadata": {
        "id": "LVdaaVOJcKrk",
        "outputId": "0d5c796c-884f-4abb-8434-782349c01946",
        "colab": {
          "base_uri": "https://localhost:8080/",
          "height": 134
        }
      },
      "source": [
        "model.fit(X_train, y_train, \n",
        "          batch_size=128, \n",
        "          epochs=3,\n",
        "          validation_data=(X_test, y_test)\n",
        "          )"
      ],
      "execution_count": null,
      "outputs": [
        {
          "output_type": "stream",
          "text": [
            "Epoch 1/3\n",
            "391/391 [==============================] - 9s 24ms/step - loss: 1.7968 - categorical_accuracy: 0.3269 - val_loss: 1.5709 - val_categorical_accuracy: 0.4158\n",
            "Epoch 2/3\n",
            "391/391 [==============================] - 9s 23ms/step - loss: 1.4435 - categorical_accuracy: 0.4726 - val_loss: 1.3988 - val_categorical_accuracy: 0.4825\n",
            "Epoch 3/3\n",
            "391/391 [==============================] - 9s 22ms/step - loss: 1.2795 - categorical_accuracy: 0.5344 - val_loss: 1.2381 - val_categorical_accuracy: 0.5516\n"
          ],
          "name": "stdout"
        },
        {
          "output_type": "execute_result",
          "data": {
            "text/plain": [
              "<tensorflow.python.keras.callbacks.History at 0x7f1289c377f0>"
            ]
          },
          "metadata": {
            "tags": []
          },
          "execution_count": 11
        }
      ]
    },
    {
      "cell_type": "code",
      "metadata": {
        "id": "dnuqnY1TLpgR"
      },
      "source": [
        "model.save_weights('LeNet5_CIFAR10.h5')"
      ],
      "execution_count": null,
      "outputs": []
    },
    {
      "cell_type": "markdown",
      "metadata": {
        "id": "5IJhvV_BSo9x"
      },
      "source": [
        "### 模型預測: 預測資料集的準確率"
      ]
    },
    {
      "cell_type": "code",
      "metadata": {
        "id": "btoBDRueSokB",
        "outputId": "e67ad73a-76e6-405c-8a3d-900b3e43d957",
        "colab": {
          "base_uri": "https://localhost:8080/",
          "height": 84
        }
      },
      "source": [
        "# model.load_weights('LeNet5_CIFAR10.h5')\n",
        "\n",
        "score_train = model.evaluate(X_train, y_train)\n",
        "score_test = model.evaluate(X_test, y_test)\n",
        "\n",
        "print(f'Train Accuracy: {score_train[1]*100}')\n",
        "print(f'Test Accuracy: {score_test[1]*100}')"
      ],
      "execution_count": null,
      "outputs": [
        {
          "output_type": "stream",
          "text": [
            "1563/1563 [==============================] - 9s 6ms/step - loss: 1.2300 - categorical_accuracy: 0.5508\n",
            "313/313 [==============================] - 2s 6ms/step - loss: 1.2381 - categorical_accuracy: 0.5516\n",
            "Train Accuracy: 55.080002546310425\n",
            "Test Accuracy: 55.15999794006348\n"
          ],
          "name": "stdout"
        }
      ]
    },
    {
      "cell_type": "code",
      "metadata": {
        "id": "mV_jjr02p6Uz"
      },
      "source": [
        ""
      ],
      "execution_count": null,
      "outputs": []
    },
    {
      "cell_type": "code",
      "metadata": {
        "id": "P4PKj-iYp3EB",
        "outputId": "b730f650-ad7c-47d1-9ecb-a5c2d0f550ad",
        "colab": {
          "base_uri": "https://localhost:8080/",
          "height": 151
        }
      },
      "source": [
        "model.layers"
      ],
      "execution_count": null,
      "outputs": [
        {
          "output_type": "execute_result",
          "data": {
            "text/plain": [
              "[<tensorflow.python.keras.layers.convolutional.Conv2D at 0x7f128895b860>,\n",
              " <tensorflow.python.keras.layers.pooling.MaxPooling2D at 0x7f128810a1d0>,\n",
              " <tensorflow.python.keras.layers.convolutional.Conv2D at 0x7f128895b5f8>,\n",
              " <tensorflow.python.keras.layers.pooling.MaxPooling2D at 0x7f128813b898>,\n",
              " <tensorflow.python.keras.layers.convolutional.Conv2D at 0x7f128810a588>,\n",
              " <tensorflow.python.keras.layers.pooling.GlobalAveragePooling2D at 0x7f12800cff60>,\n",
              " <tensorflow.python.keras.layers.core.Dense at 0x7f128895b668>,\n",
              " <tensorflow.python.keras.layers.core.Dense at 0x7f128813bd68>]"
            ]
          },
          "metadata": {
            "tags": []
          },
          "execution_count": 14
        }
      ]
    },
    {
      "cell_type": "code",
      "metadata": {
        "id": "UyxQIxGNp6-A"
      },
      "source": [
        ""
      ],
      "execution_count": null,
      "outputs": []
    },
    {
      "cell_type": "markdown",
      "metadata": {
        "id": "0G7lUOLHQEjr"
      },
      "source": [
        "## 5: 另一種使用 Sequential 建立模型的方式"
      ]
    },
    {
      "cell_type": "code",
      "metadata": {
        "id": "14YYzYYwcKpE"
      },
      "source": [
        "CNN_layers = [Conv2D(32, (3, 3), input_shape=(32, 32, 3), padding='same', activation='relu', name='Conv_1'),\n",
        "              MaxPool2D(),\n",
        "              Conv2D(128, (3, 3), padding='same', activation='relu', name='Conv_2'),\n",
        "              MaxPool2D(),\n",
        "              Conv2D(512, (3, 3), padding='same', activation='relu', name='Conv_3'),\n",
        "              GlobalAveragePooling2D()]\n",
        "\n",
        "FC_layers = [Dense(units=256, activation='relu'),\n",
        "             Dense(units=10, activation='softmax')]"
      ],
      "execution_count": null,
      "outputs": []
    },
    {
      "cell_type": "code",
      "metadata": {
        "id": "xn7EzCCgqkDs",
        "outputId": "c0d196fc-61ab-4d6b-ce84-4f440240b006",
        "colab": {
          "base_uri": "https://localhost:8080/",
          "height": 151
        }
      },
      "source": [
        "CNN_layers + FC_layers"
      ],
      "execution_count": null,
      "outputs": [
        {
          "output_type": "execute_result",
          "data": {
            "text/plain": [
              "[<tensorflow.python.keras.layers.convolutional.Conv2D at 0x7f122beeee80>,\n",
              " <tensorflow.python.keras.layers.pooling.MaxPooling2D at 0x7f122bec8fd0>,\n",
              " <tensorflow.python.keras.layers.convolutional.Conv2D at 0x7f122bec8be0>,\n",
              " <tensorflow.python.keras.layers.pooling.MaxPooling2D at 0x7f122bea6320>,\n",
              " <tensorflow.python.keras.layers.convolutional.Conv2D at 0x7f128be674e0>,\n",
              " <tensorflow.python.keras.layers.pooling.GlobalAveragePooling2D at 0x7f128813b8d0>,\n",
              " <tensorflow.python.keras.layers.core.Dense at 0x7f12800d66a0>,\n",
              " <tensorflow.python.keras.layers.core.Dense at 0x7f122bea68d0>]"
            ]
          },
          "metadata": {
            "tags": []
          },
          "execution_count": 16
        }
      ]
    },
    {
      "cell_type": "code",
      "metadata": {
        "id": "hvmVUw4krEJq",
        "outputId": "483f1d0a-381f-419a-9889-ace2e94fc64c",
        "colab": {
          "base_uri": "https://localhost:8080/",
          "height": 420
        }
      },
      "source": [
        "model.summary()"
      ],
      "execution_count": null,
      "outputs": [
        {
          "output_type": "stream",
          "text": [
            "Model: \"sequential\"\n",
            "_________________________________________________________________\n",
            "Layer (type)                 Output Shape              Param #   \n",
            "=================================================================\n",
            "conv2d (Conv2D)              (None, 32, 32, 32)        896       \n",
            "_________________________________________________________________\n",
            "max_pooling2d (MaxPooling2D) (None, 16, 16, 32)        0         \n",
            "_________________________________________________________________\n",
            "conv2d_1 (Conv2D)            (None, 16, 16, 128)       36992     \n",
            "_________________________________________________________________\n",
            "max_pooling2d_1 (MaxPooling2 (None, 8, 8, 128)         0         \n",
            "_________________________________________________________________\n",
            "conv2d_2 (Conv2D)            (None, 8, 8, 512)         590336    \n",
            "_________________________________________________________________\n",
            "global_average_pooling2d (Gl (None, 512)               0         \n",
            "_________________________________________________________________\n",
            "dense (Dense)                (None, 256)               131328    \n",
            "_________________________________________________________________\n",
            "dense_1 (Dense)              (None, 10)                2570      \n",
            "=================================================================\n",
            "Total params: 762,122\n",
            "Trainable params: 762,122\n",
            "Non-trainable params: 0\n",
            "_________________________________________________________________\n"
          ],
          "name": "stdout"
        }
      ]
    },
    {
      "cell_type": "code",
      "metadata": {
        "id": "43XOpYqROKzD",
        "outputId": "9fc405a4-992e-4f00-bc0a-843110a06fff",
        "colab": {
          "base_uri": "https://localhost:8080/",
          "height": 420
        }
      },
      "source": [
        "model_2 = Sequential(CNN_layers+FC_layers)\n",
        "model_2.summary()"
      ],
      "execution_count": null,
      "outputs": [
        {
          "output_type": "stream",
          "text": [
            "Model: \"sequential_1\"\n",
            "_________________________________________________________________\n",
            "Layer (type)                 Output Shape              Param #   \n",
            "=================================================================\n",
            "Conv_1 (Conv2D)              (None, 32, 32, 32)        896       \n",
            "_________________________________________________________________\n",
            "max_pooling2d_2 (MaxPooling2 (None, 16, 16, 32)        0         \n",
            "_________________________________________________________________\n",
            "Conv_2 (Conv2D)              (None, 16, 16, 128)       36992     \n",
            "_________________________________________________________________\n",
            "max_pooling2d_3 (MaxPooling2 (None, 8, 8, 128)         0         \n",
            "_________________________________________________________________\n",
            "Conv_3 (Conv2D)              (None, 8, 8, 512)         590336    \n",
            "_________________________________________________________________\n",
            "global_average_pooling2d_1 ( (None, 512)               0         \n",
            "_________________________________________________________________\n",
            "dense_2 (Dense)              (None, 256)               131328    \n",
            "_________________________________________________________________\n",
            "dense_3 (Dense)              (None, 10)                2570      \n",
            "=================================================================\n",
            "Total params: 762,122\n",
            "Trainable params: 762,122\n",
            "Non-trainable params: 0\n",
            "_________________________________________________________________\n"
          ],
          "name": "stdout"
        }
      ]
    },
    {
      "cell_type": "markdown",
      "metadata": {
        "id": "Axv5GfyzRfMZ"
      },
      "source": [
        "####  與使用 `model.add` 建立模型的差異？"
      ]
    },
    {
      "cell_type": "code",
      "metadata": {
        "id": "_tmJIForZPlR"
      },
      "source": [
        "model_2.compile(loss='categorical_crossentropy', \n",
        "                optimizer=Adam(),\n",
        "                metrics=['categorical_accuracy'])\n",
        "\n",
        "model_2.load_weights('LeNet5_CIFAR10.h5')"
      ],
      "execution_count": null,
      "outputs": []
    },
    {
      "cell_type": "code",
      "metadata": {
        "id": "Tb2cXnaV8FHy",
        "outputId": "f5db455e-88ae-4313-ae0e-d75317ea2d3e",
        "colab": {
          "base_uri": "https://localhost:8080/",
          "height": 84
        }
      },
      "source": [
        "score_train = model_2.evaluate(X_train, y_train, batch_size=1024)\n",
        "score_test = model_2.evaluate(X_test, y_test, batch_size=1024)\n",
        "\n",
        "print(f'Train Accuracy: {score_train[1]*100}')\n",
        "print(f'Test Accuracy: {score_test[1]*100}')"
      ],
      "execution_count": null,
      "outputs": [
        {
          "output_type": "stream",
          "text": [
            "49/49 [==============================] - 3s 59ms/step - loss: 1.2300 - categorical_accuracy: 0.5508\n",
            "10/10 [==============================] - 1s 91ms/step - loss: 1.2381 - categorical_accuracy: 0.5516\n",
            "Train Accuracy: 55.080002546310425\n",
            "Test Accuracy: 55.15999794006348\n"
          ],
          "name": "stdout"
        }
      ]
    },
    {
      "cell_type": "markdown",
      "metadata": {
        "id": "W5Vf7bbrQIQc"
      },
      "source": [
        "## 6: 遷移學習 (Transfer Learning) 中的 Layer Transfer 的技巧"
      ]
    },
    {
      "cell_type": "code",
      "metadata": {
        "id": "OmOkvmGXLjMo",
        "outputId": "1509cb1d-3a3a-4af8-8bb8-0ed55add458a",
        "colab": {
          "base_uri": "https://localhost:8080/",
          "height": 50
        }
      },
      "source": [
        "# Load CIFAR 100\n",
        "(U_train, v_train0), (U_test, v_test0) = datasets.cifar100.load_data()\n",
        "\n",
        "# Normalize the range of featurs\n",
        "U_train = U_train / U_train.max()\n",
        "U_test = U_test / U_test.max()\n",
        "\n",
        "# One-hot encoding\n",
        "v_train = to_categorical(v_train0, 100)\n",
        "v_test = to_categorical(v_test0, 100)"
      ],
      "execution_count": null,
      "outputs": [
        {
          "output_type": "stream",
          "text": [
            "Downloading data from https://www.cs.toronto.edu/~kriz/cifar-100-python.tar.gz\n",
            "169009152/169001437 [==============================] - 2s 0us/step\n"
          ],
          "name": "stdout"
        }
      ]
    },
    {
      "cell_type": "markdown",
      "metadata": {
        "id": "iRjjVxyiYxi4"
      },
      "source": [
        "LeNet-5 for CIFAR-10 (model_2)\n",
        "```\n",
        "CNN_layers = [Conv2D(32, (3, 3), input_shape=(32, 32, 3), padding='same', activation='relu', name='Conv_1'),\n",
        "              MaxPool2D(),\n",
        "              Conv2D(128, (3, 3), padding='same', activation='relu', name='Conv_2'),\n",
        "              MaxPool2D(),\n",
        "              Conv2D(512, (3, 3), padding='same', activation='relu', name='Conv_3'),\n",
        "              GlobalAveragePooling2D()]\n",
        "\n",
        "FC_layers = [Dense(units=256, activation='relu'),\n",
        "             Dense(units=10, activation='softmax')]\n",
        "```\n",
        "\n",
        "LeNet-5 for CIFAR-100\n",
        "```\n",
        "# From LeNet-5 for CIFAR-10\n",
        "CNN_layers\n",
        "\n",
        "# New FC layers for CIFAR-100\n",
        "FC_layers_CF100 = [Dense(units=256, activation='relu'),\n",
        "                   Dense(units=128, activation='relu'),\n",
        "                   Dense(units=100, activation='softmax')]\n",
        "```\n",
        "CNN_layers 是跟人家**借**來的。"
      ]
    },
    {
      "cell_type": "code",
      "metadata": {
        "id": "qd-lSV5rSJYX"
      },
      "source": [
        "FC_layers_CF100 = [Dense(units=256, activation='relu'),\n",
        "                   Dense(units=128, activation='relu'),\n",
        "                   Dense(units=100, activation='softmax')]"
      ],
      "execution_count": null,
      "outputs": []
    },
    {
      "cell_type": "code",
      "metadata": {
        "id": "oF_YvZpEZuGD",
        "outputId": "99d6ebbc-1b9f-4777-ea7b-2efbfb5f7e6c",
        "colab": {
          "base_uri": "https://localhost:8080/",
          "height": 454
        }
      },
      "source": [
        "model_CF100 = Sequential(CNN_layers+FC_layers_CF100)\n",
        "model_CF100.summary()"
      ],
      "execution_count": null,
      "outputs": [
        {
          "output_type": "stream",
          "text": [
            "Model: \"sequential_2\"\n",
            "_________________________________________________________________\n",
            "Layer (type)                 Output Shape              Param #   \n",
            "=================================================================\n",
            "Conv_1 (Conv2D)              (None, 32, 32, 32)        896       \n",
            "_________________________________________________________________\n",
            "max_pooling2d_2 (MaxPooling2 (None, 16, 16, 32)        0         \n",
            "_________________________________________________________________\n",
            "Conv_2 (Conv2D)              (None, 16, 16, 128)       36992     \n",
            "_________________________________________________________________\n",
            "max_pooling2d_3 (MaxPooling2 (None, 8, 8, 128)         0         \n",
            "_________________________________________________________________\n",
            "Conv_3 (Conv2D)              (None, 8, 8, 512)         590336    \n",
            "_________________________________________________________________\n",
            "global_average_pooling2d_1 ( (None, 512)               0         \n",
            "_________________________________________________________________\n",
            "dense_4 (Dense)              (None, 256)               131328    \n",
            "_________________________________________________________________\n",
            "dense_5 (Dense)              (None, 128)               32896     \n",
            "_________________________________________________________________\n",
            "dense_6 (Dense)              (None, 100)               12900     \n",
            "=================================================================\n",
            "Total params: 805,348\n",
            "Trainable params: 805,348\n",
            "Non-trainable params: 0\n",
            "_________________________________________________________________\n"
          ],
          "name": "stdout"
        }
      ]
    },
    {
      "cell_type": "markdown",
      "metadata": {
        "id": "N2_KcAk4Z2Pv"
      },
      "source": [
        "對照一下和 LeNet-5 for CIFAR-10 的差別"
      ]
    },
    {
      "cell_type": "code",
      "metadata": {
        "id": "4E_nXlKyZ14h",
        "outputId": "54215a0e-41b3-44af-b01b-44a995227f6a",
        "colab": {
          "base_uri": "https://localhost:8080/",
          "height": 420
        }
      },
      "source": [
        "model_2.summary()"
      ],
      "execution_count": null,
      "outputs": [
        {
          "output_type": "stream",
          "text": [
            "Model: \"sequential_1\"\n",
            "_________________________________________________________________\n",
            "Layer (type)                 Output Shape              Param #   \n",
            "=================================================================\n",
            "Conv_1 (Conv2D)              (None, 32, 32, 32)        896       \n",
            "_________________________________________________________________\n",
            "max_pooling2d_2 (MaxPooling2 (None, 16, 16, 32)        0         \n",
            "_________________________________________________________________\n",
            "Conv_2 (Conv2D)              (None, 16, 16, 128)       36992     \n",
            "_________________________________________________________________\n",
            "max_pooling2d_3 (MaxPooling2 (None, 8, 8, 128)         0         \n",
            "_________________________________________________________________\n",
            "Conv_3 (Conv2D)              (None, 8, 8, 512)         590336    \n",
            "_________________________________________________________________\n",
            "global_average_pooling2d_1 ( (None, 512)               0         \n",
            "_________________________________________________________________\n",
            "dense_2 (Dense)              (None, 256)               131328    \n",
            "_________________________________________________________________\n",
            "dense_3 (Dense)              (None, 10)                2570      \n",
            "=================================================================\n",
            "Total params: 762,122\n",
            "Trainable params: 762,122\n",
            "Non-trainable params: 0\n",
            "_________________________________________________________________\n"
          ],
          "name": "stdout"
        }
      ]
    },
    {
      "cell_type": "markdown",
      "metadata": {
        "id": "X2tE6ef-a65s"
      },
      "source": [
        "### 遷移學習的訓練方式\n",
        "* Fine-tune: 新資料集的樣本數夠多，整個模型重新訓練\n",
        "* Frozen: 當新資料集的樣本數不夠多，凍結借來的部分，只針對新建立的神經網路層訓練"
      ]
    },
    {
      "cell_type": "code",
      "metadata": {
        "id": "-Q1B1e96Z7p8"
      },
      "source": [
        "for layer in CNN_layers:\n",
        "    layer.trainable = False"
      ],
      "execution_count": null,
      "outputs": []
    },
    {
      "cell_type": "code",
      "metadata": {
        "id": "szhsRPIXbb0F",
        "outputId": "e03d0133-0bbb-4c83-a692-ffd7690b7222",
        "colab": {
          "base_uri": "https://localhost:8080/",
          "height": 454
        }
      },
      "source": [
        "model_CF100.summary()"
      ],
      "execution_count": null,
      "outputs": [
        {
          "output_type": "stream",
          "text": [
            "Model: \"sequential_2\"\n",
            "_________________________________________________________________\n",
            "Layer (type)                 Output Shape              Param #   \n",
            "=================================================================\n",
            "Conv_1 (Conv2D)              (None, 32, 32, 32)        896       \n",
            "_________________________________________________________________\n",
            "max_pooling2d_2 (MaxPooling2 (None, 16, 16, 32)        0         \n",
            "_________________________________________________________________\n",
            "Conv_2 (Conv2D)              (None, 16, 16, 128)       36992     \n",
            "_________________________________________________________________\n",
            "max_pooling2d_3 (MaxPooling2 (None, 8, 8, 128)         0         \n",
            "_________________________________________________________________\n",
            "Conv_3 (Conv2D)              (None, 8, 8, 512)         590336    \n",
            "_________________________________________________________________\n",
            "global_average_pooling2d_1 ( (None, 512)               0         \n",
            "_________________________________________________________________\n",
            "dense_4 (Dense)              (None, 256)               131328    \n",
            "_________________________________________________________________\n",
            "dense_5 (Dense)              (None, 128)               32896     \n",
            "_________________________________________________________________\n",
            "dense_6 (Dense)              (None, 100)               12900     \n",
            "=================================================================\n",
            "Total params: 805,348\n",
            "Trainable params: 177,124\n",
            "Non-trainable params: 628,224\n",
            "_________________________________________________________________\n"
          ],
          "name": "stdout"
        }
      ]
    },
    {
      "cell_type": "code",
      "metadata": {
        "id": "Bu6OYc8PbfHA"
      },
      "source": [
        "model_CF100.compile(loss='categorical_crossentropy', \n",
        "                    optimizer=Adam(),\n",
        "                    metrics=['categorical_accuracy'])\n",
        "\n",
        "model_CF100.fit(U_train, v_train,\n",
        "                batch_size=128, \n",
        "                epochs=5,\n",
        "                validation_data=(U_test, v_test)\n",
        "                )"
      ],
      "execution_count": null,
      "outputs": []
    },
    {
      "cell_type": "markdown",
      "metadata": {
        "id": "MlZsfofSb5k1"
      },
      "source": [
        "### 借來的神經網路 (的權重) 會如何變化？Frozen 的場合"
      ]
    },
    {
      "cell_type": "code",
      "metadata": {
        "id": "7dOhdwRrdAwt",
        "outputId": "74930cc2-1e1f-42c1-e829-9c13cfe3f56a",
        "colab": {
          "base_uri": "https://localhost:8080/",
          "height": 84
        }
      },
      "source": [
        "score_train = model_2.evaluate(X_train, y_train)\n",
        "score_test = model_2.evaluate(X_test, y_test)\n",
        "\n",
        "print(f'Train Accuracy: {score_train[1]*100}')\n",
        "print(f'Test Accuracy: {score_test[1]*100}')"
      ],
      "execution_count": null,
      "outputs": [
        {
          "output_type": "stream",
          "text": [
            "1563/1563 [==============================] - 8s 5ms/step - loss: 1.2300 - categorical_accuracy: 0.5508\n",
            "313/313 [==============================] - 2s 6ms/step - loss: 1.2381 - categorical_accuracy: 0.5516\n",
            "Train Accuracy: 55.080002546310425\n",
            "Test Accuracy: 55.15999794006348\n"
          ],
          "name": "stdout"
        }
      ]
    },
    {
      "cell_type": "markdown",
      "metadata": {
        "id": "ysYktss3dE4J"
      },
      "source": [
        "### 借來的神經網路 (的權重) 會如何變化？Fine-tune 的場合"
      ]
    },
    {
      "cell_type": "code",
      "metadata": {
        "id": "vjCaXC6bb_n4",
        "outputId": "df29d78c-c3aa-469a-b9d9-46db699b8c1b",
        "colab": {
          "base_uri": "https://localhost:8080/",
          "height": 50
        }
      },
      "source": [
        "for layer in CNN_layers:\n",
        "    layer.trainable = True\n",
        "\n",
        "model_CF100.fit(U_train, v_train,\n",
        "                batch_size=128, \n",
        "                epochs=1,\n",
        "                validation_data=(U_test, v_test)\n",
        "                )"
      ],
      "execution_count": null,
      "outputs": [
        {
          "output_type": "stream",
          "text": [
            "391/391 [==============================] - 4s 11ms/step - loss: 2.8103 - categorical_accuracy: 0.2912 - val_loss: 2.8271 - val_categorical_accuracy: 0.2843\n"
          ],
          "name": "stdout"
        },
        {
          "output_type": "execute_result",
          "data": {
            "text/plain": [
              "<tensorflow.python.keras.callbacks.History at 0x7f122a8d70f0>"
            ]
          },
          "metadata": {
            "tags": []
          },
          "execution_count": 32
        }
      ]
    },
    {
      "cell_type": "code",
      "metadata": {
        "id": "-Tt8jWVgvqKm"
      },
      "source": [
        "model_CF100.summary()"
      ],
      "execution_count": null,
      "outputs": []
    },
    {
      "cell_type": "code",
      "metadata": {
        "id": "8jYVEtgJvBIe",
        "outputId": "a1b9b095-a302-4fa9-8fa6-ab075ec62247",
        "colab": {
          "base_uri": "https://localhost:8080/",
          "height": 84
        }
      },
      "source": [
        "score_train = model_2.evaluate(X_train, y_train)\n",
        "score_test = model_2.evaluate(X_test, y_test)\n",
        "\n",
        "print(f'Train Accuracy: {score_train[1]*100}')\n",
        "print(f'Test Accuracy: {score_test[1]*100}')"
      ],
      "execution_count": null,
      "outputs": [
        {
          "output_type": "stream",
          "text": [
            "1563/1563 [==============================] - 9s 6ms/step - loss: 1.2418 - categorical_accuracy: 0.5517\n",
            "313/313 [==============================] - 2s 6ms/step - loss: 1.2495 - categorical_accuracy: 0.5498\n",
            "Train Accuracy: 55.16600012779236\n",
            "Test Accuracy: 54.979997873306274\n"
          ],
          "name": "stdout"
        }
      ]
    },
    {
      "cell_type": "markdown",
      "metadata": {
        "id": "7G2pTHXGfnzl"
      },
      "source": [
        "使用 Layer Transfer 的注意事項\n",
        "1. 若目的不同 (如；分類總數不同)，則須重新定義不同的全連接層\n",
        "2. 若資料的輸入尺寸不同 (如：channel 數不同)，則也需針對輸入的部分調整"
      ]
    },
    {
      "cell_type": "markdown",
      "metadata": {
        "id": "6-CXv-J_lhB-"
      },
      "source": [
        "雖然這個模型看起來很隨便，但轉移學習的模型**差不多**都是這樣建立的，實際上， Keras 亦提供許多被證實有良好表現且訓練好 (pre-trained) 的模型，如:\n",
        "\n",
        "* Xception\n",
        "* VGG16\n",
        "* VGG19\n",
        "* ResNet50\n",
        "* InceptionV3\n",
        "* InceptionResNetV2\n",
        "* MobileNet\n",
        "* DenseNet\n",
        "* NASNet\n",
        "\n",
        "詳細的使用方式可參考 Keras Documentation: https://keras.io/applications/\n",
        "\n",
        "但使用這些模型進行轉移學習，**可能**需要 ``Sequential`` 以外寫法，以及更多神經網路的建構技巧。"
      ]
    },
    {
      "cell_type": "code",
      "metadata": {
        "id": "XVErcleXjv3R"
      },
      "source": [
        ""
      ],
      "execution_count": null,
      "outputs": []
    },
    {
      "cell_type": "code",
      "metadata": {
        "id": "N42q2ROQliX8"
      },
      "source": [
        ""
      ],
      "execution_count": null,
      "outputs": []
    },
    {
      "cell_type": "code",
      "metadata": {
        "id": "tcxVPVZ5j0Fk"
      },
      "source": [
        ""
      ],
      "execution_count": null,
      "outputs": []
    },
    {
      "cell_type": "markdown",
      "metadata": {
        "id": "OSew6gi3goiy"
      },
      "source": [
        "## [NOT FINISHED] 遷移學習的實作，以 Class Activation Map (CAM) 為例"
      ]
    },
    {
      "cell_type": "code",
      "metadata": {
        "id": "9FViBYlTgfBG"
      },
      "source": [
        "FC_layers_new = [Dense(units=10, activation='softmax')]"
      ],
      "execution_count": null,
      "outputs": []
    },
    {
      "cell_type": "code",
      "metadata": {
        "id": "YzGxm7Qyg3nY",
        "outputId": "8deb2388-55c5-4f32-c46b-24aea0fc1fe0",
        "colab": {
          "base_uri": "https://localhost:8080/",
          "height": 386
        }
      },
      "source": [
        "classifier = Sequential(CNN_layers+FC_layers_new)\n",
        "classifier.compile(loss='categorical_crossentropy', \n",
        "                   optimizer=Adam(),\n",
        "                   metrics=['categorical_accuracy'])\n",
        "classifier.summary()"
      ],
      "execution_count": null,
      "outputs": [
        {
          "output_type": "stream",
          "text": [
            "Model: \"sequential_9\"\n",
            "_________________________________________________________________\n",
            "Layer (type)                 Output Shape              Param #   \n",
            "=================================================================\n",
            "Conv_1 (Conv2D)              (None, 32, 32, 32)        896       \n",
            "_________________________________________________________________\n",
            "max_pooling2d_4 (MaxPooling2 (None, 16, 16, 32)        0         \n",
            "_________________________________________________________________\n",
            "Conv_2 (Conv2D)              (None, 16, 16, 128)       36992     \n",
            "_________________________________________________________________\n",
            "max_pooling2d_5 (MaxPooling2 (None, 8, 8, 128)         0         \n",
            "_________________________________________________________________\n",
            "Conv_3 (Conv2D)              (None, 8, 8, 512)         590336    \n",
            "_________________________________________________________________\n",
            "global_average_pooling2d_2 ( (None, 512)               0         \n",
            "_________________________________________________________________\n",
            "dense_12 (Dense)             (None, 10)                5130      \n",
            "=================================================================\n",
            "Total params: 633,354\n",
            "Trainable params: 633,354\n",
            "Non-trainable params: 0\n",
            "_________________________________________________________________\n"
          ],
          "name": "stdout"
        }
      ]
    },
    {
      "cell_type": "code",
      "metadata": {
        "id": "fVvocZANhKsv"
      },
      "source": [
        "model.fit(X_train, y_train, \n",
        "          batch_size=128, \n",
        "          epochs=20,\n",
        "          validation_data=(X_test, y_test)\n",
        "          )"
      ],
      "execution_count": null,
      "outputs": []
    },
    {
      "cell_type": "code",
      "metadata": {
        "id": "pN6CEmmehLgh",
        "outputId": "86a123f9-c313-4a96-9b5f-51ee943e802f",
        "colab": {
          "base_uri": "https://localhost:8080/",
          "height": 353
        }
      },
      "source": [
        "CAM_model = Sequential(CNN_layers[:-1]+FC_layers_new)\n",
        "CAM_model.compile(loss='categorical_crossentropy', \n",
        "                  optimizer=Adam(),\n",
        "                  metrics=['categorical_accuracy'])\n",
        "CAM_model.summary()"
      ],
      "execution_count": null,
      "outputs": [
        {
          "output_type": "stream",
          "text": [
            "Model: \"sequential_10\"\n",
            "_________________________________________________________________\n",
            "Layer (type)                 Output Shape              Param #   \n",
            "=================================================================\n",
            "Conv_1 (Conv2D)              (None, 32, 32, 32)        896       \n",
            "_________________________________________________________________\n",
            "max_pooling2d_4 (MaxPooling2 (None, 16, 16, 32)        0         \n",
            "_________________________________________________________________\n",
            "Conv_2 (Conv2D)              (None, 16, 16, 128)       36992     \n",
            "_________________________________________________________________\n",
            "max_pooling2d_5 (MaxPooling2 (None, 8, 8, 128)         0         \n",
            "_________________________________________________________________\n",
            "Conv_3 (Conv2D)              (None, 8, 8, 512)         590336    \n",
            "_________________________________________________________________\n",
            "dense_12 (Dense)             multiple                  5130      \n",
            "=================================================================\n",
            "Total params: 633,354\n",
            "Trainable params: 633,354\n",
            "Non-trainable params: 0\n",
            "_________________________________________________________________\n"
          ],
          "name": "stdout"
        }
      ]
    },
    {
      "cell_type": "code",
      "metadata": {
        "id": "xzMhzBmihx0L",
        "outputId": "ca719f81-6f33-4959-847c-8f3529833858",
        "colab": {
          "base_uri": "https://localhost:8080/",
          "height": 219
        }
      },
      "source": [
        "from PIL import Image\n",
        "CAM = CAM_model.predict(X_train[idx:idx+1])[0, : ,: , y_sample]\n",
        "CAM.resize(X_sample.shape)\n",
        "\n",
        "plt.subplot(1, 2, 1)\n",
        "plt.imshow(X_sample)\n",
        "\n",
        "plt.subplot(1, 2, 2)\n",
        "plt.imshow(np.clip(CAM, 0.1, 1), 'gray_r')"
      ],
      "execution_count": null,
      "outputs": [
        {
          "output_type": "execute_result",
          "data": {
            "text/plain": [
              "<matplotlib.image.AxesImage at 0x7f0ca6532160>"
            ]
          },
          "metadata": {
            "tags": []
          },
          "execution_count": 114
        },
        {
          "output_type": "display_data",
          "data": {
            "image/png": "[encoded data removed]",
            "text/plain": [
              "<Figure size 432x288 with 2 Axes>"
            ]
          },
          "metadata": {
            "tags": [],
            "needs_background": "light"
          }
        }
      ]
    },
    {
      "cell_type": "code",
      "metadata": {
        "id": "DM2fZGEAkSLe",
        "outputId": "52fa57b0-7abb-4f87-9e44-ddbb0962da01",
        "colab": {
          "base_uri": "https://localhost:8080/",
          "height": 286
        }
      },
      "source": [
        "np.clip(CAM, 0.1, 1)"
      ],
      "execution_count": null,
      "outputs": [
        {
          "output_type": "execute_result",
          "data": {
            "text/plain": [
              "array([[0.1       , 0.1       , 0.1       , 0.1       , 0.1       ,\n",
              "        0.1       , 0.1       , 0.1       ],\n",
              "       [0.1       , 0.1       , 0.1       , 0.1       , 0.1       ,\n",
              "        0.1       , 0.1       , 0.1       ],\n",
              "       [0.12071457, 0.1       , 0.11357061, 0.1       , 0.1       ,\n",
              "        0.1       , 0.10532729, 0.1       ],\n",
              "       [0.10987107, 0.10232778, 0.1       , 0.1       , 0.10549945,\n",
              "        0.12811796, 0.12720664, 0.10187284],\n",
              "       [0.107051  , 0.13169208, 0.1       , 0.1       , 0.1       ,\n",
              "        0.1210372 , 0.12632339, 0.11793717],\n",
              "       [0.1       , 0.11684094, 0.10440911, 0.1       , 0.11002783,\n",
              "        0.11910338, 0.11852513, 0.10015   ],\n",
              "       [0.1133763 , 0.10758757, 0.11185651, 0.11523668, 0.1216599 ,\n",
              "        0.10326762, 0.1122153 , 0.1060672 ],\n",
              "       [0.11666509, 0.12236123, 0.12577349, 0.13925031, 0.12089453,\n",
              "        0.10160585, 0.10003033, 0.1       ]], dtype=float32)"
            ]
          },
          "metadata": {
            "tags": []
          },
          "execution_count": 112
        }
      ]
    },
    {
      "cell_type": "code",
      "metadata": {
        "id": "2GyElQZBifTS"
      },
      "source": [
        "class_intensity = FC_layers_new[0].get_weights()[0][:, y_sample]"
      ],
      "execution_count": null,
      "outputs": []
    },
    {
      "cell_type": "code",
      "metadata": {
        "id": "pvt5gYO-jIPO",
        "outputId": "f5dad685-2978-41b7-bfa4-8e3341a75e60",
        "colab": {
          "base_uri": "https://localhost:8080/",
          "height": 34
        }
      },
      "source": [
        "CAM_model.predict(X_train[idx:idx+1]).shape"
      ],
      "execution_count": null,
      "outputs": [
        {
          "output_type": "execute_result",
          "data": {
            "text/plain": [
              "(1, 8, 8, 10)"
            ]
          },
          "metadata": {
            "tags": []
          },
          "execution_count": 88
        }
      ]
    }
  ]
}